{
 "cells": [
  {
   "cell_type": "markdown",
   "metadata": {},
   "source": [
    "# HaMLeT"
   ]
  },
  {
   "cell_type": "markdown",
   "metadata": {},
   "source": [
    "# Session 1: Basics"
   ]
  },
  {
   "cell_type": "markdown",
   "metadata": {},
   "source": [
    "## Goals of this session\n",
    "\n",
    "After this session, you will have an understanding of:\n",
    "-  basic python programming\n",
    "-  python datastructures\n",
    "-  some important python packages: `NumPy`, `matplotlib.pyplot`, `scikit-learn`\n",
    "-  working with images\n",
    "-  some common terms used in ML \n",
    "-  the Iris dataset \n",
    "-  PCA"
   ]
  },
  {
   "cell_type": "markdown",
   "metadata": {},
   "source": [
    "### Structure of the Notebook: \n",
    "You need to perform the tasks and answer the questions in the notebook.\n",
    "For most of the tasks you will find either examples or hints to help you.\n",
    "For this notebook the hints are mostly in the form of commands that you will be required to use. \n",
    "Feel free to search the internet and find out how to use the required command, eg. which inputs need to provided and how many outputs are to be expected, etc.\n",
    "\n",
    "Let's start with some basic python programming.\n",
    "Have fun!"
   ]
  },
  {
   "cell_type": "markdown",
   "metadata": {},
   "source": [
    "Python requires you to `import` the package you want to work on. Let's `import` an important package that motivates us to learn python!"
   ]
  },
  {
   "cell_type": "code",
   "execution_count": null,
   "metadata": {},
   "outputs": [],
   "source": [
    "# importing necessary packages\n",
    "import antigravity"
   ]
  },
  {
   "cell_type": "markdown",
   "metadata": {},
   "source": [
    "## 1. Basic `NumPy` operations"
   ]
  },
  {
   "cell_type": "code",
   "execution_count": null,
   "metadata": {},
   "outputs": [],
   "source": [
    "# importing necessary packages\n",
    "import numpy as np"
   ]
  },
  {
   "cell_type": "markdown",
   "metadata": {},
   "source": [
    "**Task:** Create a 1D array with 10 elements \n",
    "Hint: you may use any of `NumPy` built-in array generators, eg. `np.zeros`, `np.ones`, `np.arange`, `np.random`, etc."
   ]
  },
  {
   "cell_type": "code",
   "execution_count": null,
   "metadata": {},
   "outputs": [],
   "source": [
    "# Your code here:\n",
    "\n"
   ]
  },
  {
   "cell_type": "markdown",
   "metadata": {},
   "source": [
    "**Task:** Reshape the above array (`np.reshape`)"
   ]
  },
  {
   "cell_type": "code",
   "execution_count": null,
   "metadata": {},
   "outputs": [],
   "source": [
    "# Your code here:\n",
    "\n"
   ]
  },
  {
   "cell_type": "markdown",
   "metadata": {},
   "source": [
    "**Task:** Create another 1D array and combine it with the previous array (a) vertically (b) horizontally\n",
    "(eg. using `np.concatenate`, `np.vstack`, etc.)"
   ]
  },
  {
   "cell_type": "code",
   "execution_count": null,
   "metadata": {},
   "outputs": [],
   "source": [
    "# Your code here:\n",
    "\n"
   ]
  },
  {
   "cell_type": "markdown",
   "metadata": {},
   "source": [
    "**Task:** Get positions where first and second array have the same elements (eg. `np.where`)"
   ]
  },
  {
   "cell_type": "code",
   "execution_count": null,
   "metadata": {},
   "outputs": [],
   "source": [
    "# Your code here:\n",
    "\n"
   ]
  },
  {
   "cell_type": "markdown",
   "metadata": {},
   "source": [
    "**Task:** Extract the following from the matrix you created by horizontal concatenation:\n",
    " (a) the first element of the matrix, (b) the first row, (c) the first column,\n",
    " (d) any subset of your choice, eg.the four center elements.\n",
    "\n",
    "#### This is called 'Slicing'"
   ]
  },
  {
   "cell_type": "code",
   "execution_count": null,
   "metadata": {},
   "outputs": [],
   "source": [
    "# Your code here:\n",
    "\n"
   ]
  },
  {
   "cell_type": "markdown",
   "metadata": {},
   "source": [
    "## 2. Python data types\n",
    "- numbers (eg. int, float32)\n",
    "- booleans (True, False)\n",
    "- 'null' type (None)\n",
    "- strings (eg. 'hello', 'world')\n",
    "- lists (eg. [8, 'hello', 5>7])\n",
    "- tuples (eg. (8,'hello',5>7))\n",
    "\n",
    "Hopefully you are already familiar with the common datatypes. We are going to discuss the last two:"
   ]
  },
  {
   "cell_type": "markdown",
   "metadata": {},
   "source": [
    "### List\n",
    "Python lists allow you to store a sequence of different objects, as in the above example, [int, string, bool]. \n",
    "\n",
    "Note: Lists are created using sqaure brackets [ ] and comma separated values"
   ]
  },
  {
   "cell_type": "markdown",
   "metadata": {},
   "source": [
    "**Tasks on List**\n",
    "1. Create a list containing a string, a bool, and an int\n",
    "2. Change any one object of your choice from the list\n",
    "3. Add new objects to the end of the existing list using (a) `append` (b) `extend`."
   ]
  },
  {
   "cell_type": "code",
   "execution_count": null,
   "metadata": {},
   "outputs": [],
   "source": [
    "# Your code here:\n",
    "\n"
   ]
  },
  {
   "cell_type": "markdown",
   "metadata": {},
   "source": [
    "**Question:** What is the difference between `append` and `extend`?\n",
    "\n",
    "Answer:"
   ]
  },
  {
   "cell_type": "markdown",
   "metadata": {},
   "source": [
    "**Tasks on List (cont.)**\n",
    "5. Try out the examples using the functions: `pop`, `remove`, and `del`"
   ]
  },
  {
   "cell_type": "code",
   "execution_count": null,
   "metadata": {},
   "outputs": [],
   "source": [
    "myList = [0,5,3,4,3]\n",
    "# myList.pop(3)\n",
    "\n",
    "# myList = [0,5,3,4,3]\n",
    "# myList.remove(3)\n",
    "# myList\n",
    "\n",
    "# myList = [0,5,3,4,3]\n",
    "# del myList[3]\n",
    "# myList"
   ]
  },
  {
   "cell_type": "markdown",
   "metadata": {},
   "source": [
    "**Question:** What is the difference among functions from task 5? \n",
    "\n",
    "Answer: \n",
    "\n"
   ]
  },
  {
   "cell_type": "markdown",
   "metadata": {},
   "source": [
    "### Tuple\n",
    "Similar to list, tuples can also store a sequence of arbitrary objects. They are constructed using parentheses.\n",
    "\n",
    "Important: List can be changed after construction (mutable). Tuple cannot be changed (immutable). "
   ]
  },
  {
   "cell_type": "markdown",
   "metadata": {},
   "source": [
    "**Tasks on Tuple**\n",
    "1. Create a tuple object and replace the first object with the int object 0\n",
    "2. Convert the above tuple to list, change the first object, convert back to tuple\n",
    "\n",
    "Hint: Use functions `list()` and `tuple()` to convert datatype \n",
    "Tip: You can check datatype using either `type()` or `isinstance(var,dtype)`"
   ]
  },
  {
   "cell_type": "code",
   "execution_count": null,
   "metadata": {},
   "outputs": [],
   "source": [
    "# Your code here:\n",
    "\n"
   ]
  },
  {
   "cell_type": "markdown",
   "metadata": {},
   "source": [
    "### Sequence types\n",
    "- list\n",
    "- string\n",
    "- tuple\n",
    "- `NumPy` array"
   ]
  },
  {
   "cell_type": "markdown",
   "metadata": {},
   "source": [
    "**Task on sequence types** (handy when programming in python!)\n",
    "\n",
    "- Checking if object is contained within sequence or not.\n",
    "\n",
    "Understand the following example code and then perform the given tasks."
   ]
  },
  {
   "cell_type": "code",
   "execution_count": null,
   "metadata": {},
   "outputs": [],
   "source": [
    "# Example code:\n",
    "x = (1,2,3)\n",
    "y1 = 3 in x\n",
    "y2 = 5 not in x\n",
    "print('y1 =',y1)\n",
    "print('y2 =',y2)"
   ]
  },
  {
   "cell_type": "markdown",
   "metadata": {},
   "source": [
    "**Task:** Perform the tasks according to the instructions in the following three cells and answer the question at the end"
   ]
  },
  {
   "cell_type": "code",
   "execution_count": null,
   "metadata": {},
   "outputs": [],
   "source": [
    "# Given:\n",
    "task1 = 'let us learn python'\n",
    "# Task: Check if 'us' is present in task1 or not\n",
    "# Your code here:\n",
    "\n"
   ]
  },
  {
   "cell_type": "code",
   "execution_count": null,
   "metadata": {},
   "outputs": [],
   "source": [
    "# Given:\n",
    "task2 = [10,20,30,40]\n",
    "# Task: Check if [10,20] is present in task2 or not\n",
    "# Your code here:\n",
    "\n"
   ]
  },
  {
   "cell_type": "code",
   "execution_count": null,
   "metadata": {},
   "outputs": [],
   "source": [
    "# Given:\n",
    "task3 = [True,[2,3],'hello']\n",
    "# Task: Check if [2,3] is present in task3 or not\n",
    "# Your code here:\n",
    "\n"
   ]
  },
  {
   "cell_type": "markdown",
   "metadata": {},
   "source": [
    "**Question:** Explain the different outputs in task 2 and task 3 above.\n",
    "\n",
    "Answer: \n",
    "\n"
   ]
  },
  {
   "cell_type": "markdown",
   "metadata": {},
   "source": [
    "## 3. Working with images\n",
    "We will learn to load, display and manipulate images using the `matplotlib` package."
   ]
  },
  {
   "cell_type": "code",
   "execution_count": null,
   "metadata": {},
   "outputs": [],
   "source": [
    "# importing necessary packages\n",
    "%matplotlib inline\n",
    "import matplotlib.pyplot as plt\n",
    "import cv2"
   ]
  },
  {
   "cell_type": "code",
   "execution_count": null,
   "metadata": {},
   "outputs": [],
   "source": [
    "# Load image\n",
    "irisImg = cv2.imread('irisImage.png') \n",
    "irisImg = cv2.cvtColor(irisImg, cv2.COLOR_BGR2RGB) # because cv2 reads images as bgr!\n",
    "# Display  image\n",
    "plt.imshow(irisImg) # display in RGB\n",
    "plt.show()\n",
    "irisImg.shape"
   ]
  },
  {
   "cell_type": "markdown",
   "metadata": {},
   "source": [
    "**Task:** Find out the datatype of the image.\n",
    "Hint: You've already used this command above!"
   ]
  },
  {
   "cell_type": "code",
   "execution_count": null,
   "metadata": {},
   "outputs": [],
   "source": [
    "# Your code here:\n",
    "\n"
   ]
  },
  {
   "cell_type": "markdown",
   "metadata": {},
   "source": [
    "### Let's use the `NumPy` manipulations we learned to manipulate the image"
   ]
  },
  {
   "cell_type": "markdown",
   "metadata": {},
   "source": [
    "**Task:** Extract and display only one of the species\n",
    "Hint: You can do so by the array slicing method you learned above"
   ]
  },
  {
   "cell_type": "code",
   "execution_count": null,
   "metadata": {},
   "outputs": [],
   "source": [
    "# Your code here:\n",
    "# Please name the image 'iris1'\n",
    "\n"
   ]
  },
  {
   "cell_type": "markdown",
   "metadata": {},
   "source": [
    "**Task:** Delete the white border from all the sides of the extracted image"
   ]
  },
  {
   "cell_type": "code",
   "execution_count": null,
   "metadata": {},
   "outputs": [],
   "source": [
    "# Your code here:\n",
    "# You may use plt.axis('off') to display images without the axis\n",
    "\n"
   ]
  },
  {
   "cell_type": "markdown",
   "metadata": {},
   "source": [
    "### Some useful image manipulations"
   ]
  },
  {
   "cell_type": "markdown",
   "metadata": {},
   "source": [
    "**Task:** Resize the image by three times (use `cv2.resize`)"
   ]
  },
  {
   "cell_type": "code",
   "execution_count": null,
   "metadata": {},
   "outputs": [],
   "source": [
    "# Your code here:\n",
    "# Please name the image 'resizedImg'\n",
    "\n"
   ]
  },
  {
   "cell_type": "markdown",
   "metadata": {},
   "source": [
    "**Task:** Convert the image to grayscale. This can be done by taking the sum of weighted RGB values as follows: 0.2989*R + 0.5870*G + 0.1140*B\n",
    "\n",
    "Hint: Use slicing to extract individual channels"
   ]
  },
  {
   "cell_type": "code",
   "execution_count": null,
   "metadata": {},
   "outputs": [],
   "source": [
    "# Your code here:\n",
    "# Please name your image 'irisGray'\n",
    "\n"
   ]
  },
  {
   "cell_type": "markdown",
   "metadata": {},
   "source": [
    "Alternatively, we could use the built-in function `cv2.COLOR_RGB2GRAY`"
   ]
  },
  {
   "cell_type": "code",
   "execution_count": null,
   "metadata": {},
   "outputs": [],
   "source": [
    "# irisGray = cv2.cvtColor(iris1, cv2.COLOR_RGB2GRAY)\n",
    "# plt.imshow(irisGray, cmap='gray')\n",
    "# plt.axis('off')\n",
    "# plt.show()"
   ]
  },
  {
   "cell_type": "markdown",
   "metadata": {},
   "source": [
    "**Task:** Plot the histogram of the gray scale image (use `plt.hist()` with `ravel()`)"
   ]
  },
  {
   "cell_type": "code",
   "execution_count": null,
   "metadata": {},
   "outputs": [],
   "source": [
    "# Your code here:\n",
    "\n"
   ]
  },
  {
   "cell_type": "markdown",
   "metadata": {},
   "source": [
    "### Normalization\n",
    "In Machine Learning tasks, normalization is often the first step. It essentially means scaling and centering the data values for faster convergence and improved accuracy. Here we show one method of normalizing by subtracting the minimum value from all data points and then dividing by the range of values. "
   ]
  },
  {
   "cell_type": "markdown",
   "metadata": {},
   "source": [
    "### Normalization method 1:"
   ]
  },
  {
   "cell_type": "code",
   "execution_count": null,
   "metadata": {},
   "outputs": [],
   "source": [
    "# Normalization method 1: \n",
    "irisNorm1 = (irisGray-np.min(irisGray))/(np.max(irisGray)-np.min(irisGray))\n",
    "plt.imshow(irisNorm1, cmap='gray')\n",
    "plt.axis('off')\n",
    "plt.show()\n",
    "# To see the histogram of the normalized image\n",
    "plt.hist(irisNorm1.ravel(),32)\n",
    "plt.show()"
   ]
  },
  {
   "cell_type": "markdown",
   "metadata": {},
   "source": [
    "Note that after normalization the image is rescaled between 0 and 1. "
   ]
  },
  {
   "cell_type": "markdown",
   "metadata": {},
   "source": [
    "### Normalization method 2:"
   ]
  },
  {
   "cell_type": "markdown",
   "metadata": {},
   "source": [
    "**Task:** Perform normalization on the grayscale image by subtracting the mean and scaling by the standard deviation "
   ]
  },
  {
   "cell_type": "code",
   "execution_count": null,
   "metadata": {},
   "outputs": [],
   "source": [
    "# Normalization method 2: \n",
    "# Your code here:\n",
    "# Please name your image 'irisNorm2'\n",
    "\n"
   ]
  },
  {
   "cell_type": "markdown",
   "metadata": {},
   "source": [
    "Now we're a little comfortable with python and handling different kinds of data. We now move on to the next step!"
   ]
  },
  {
   "cell_type": "markdown",
   "metadata": {},
   "source": [
    "## 4. Machine Learning\n",
    "In ML, we try to create a model based on the data we have at hand. So the first most important thing is to learn to represent that data such that the computer understands it. In our course, we will use python's Scikit-Learn package.\n",
    "\n",
    "### The dataset\n",
    "The Iris flower dataset (or Fisher's or Anderson's Iris data set) is a multivariate data set introduced by the British statistician and biologist Ronald Fisher in his 1936 paper. The aim was to quantify the morphologic variation of Iris flowers of three related species (the three flowers we saw above!). \n",
    "\n",
    "- The data set consists of 50 samples from each of three species of Iris (Iris setosa, Iris virginica and Iris versicolor).\n",
    "- Four features were measured from each sample: the length and the width of the sepals and petals, in centimetres. \n",
    "\n",
    "Based on the combination of these four features, Fisher developed a linear discriminant model to distinguish the species from each other.\n",
    "\n",
    "We will analyze and visualize the data using `seaborn`. It is a handy python package for visualising statistic data and it offers a plethora of nice plotting tools. It also has the aforementioned Iris dataset included. The Iris dataset in seaborn does not use `numpy` or `cv2`, as we don't work on the images directly. Instead, we work with 'features,' as mentioned above. This information is stored in a so called `pandas dataframe`, another useful tool for statistical analyses."
   ]
  },
  {
   "cell_type": "code",
   "execution_count": null,
   "metadata": {},
   "outputs": [],
   "source": [
    "# We will now load this dataset and display the first few elements.\n",
    "# importing necessary packages\n",
    "import seaborn as sns  \n",
    "iris = sns.load_dataset('iris')\n",
    "iris.head() #displaying the data (partially)"
   ]
  },
  {
   "cell_type": "markdown",
   "metadata": {},
   "source": [
    "Note: pandas dataframe displays the data in a very intuitive tabular format.\n",
    "Here we see the four features our data has as individual columns.\n",
    "The species on the last column are formed by all the features from the corresponding rows. "
   ]
  },
  {
   "cell_type": "markdown",
   "metadata": {},
   "source": [
    "### Data visualization"
   ]
  },
  {
   "cell_type": "code",
   "execution_count": null,
   "metadata": {},
   "outputs": [],
   "source": [
    "%matplotlib inline \n",
    "sns.set()\n",
    "sns.pairplot(iris, hue='species',height=1.5)"
   ]
  },
  {
   "cell_type": "markdown",
   "metadata": {},
   "source": [
    "Note: Here we see a visual pair-wise comparison of all the features"
   ]
  },
  {
   "cell_type": "markdown",
   "metadata": {},
   "source": [
    "### Working with our dataset using `sklearn`\n",
    "We will now load the data using the Python ML library `sklearn`.\n",
    "It includes many ML algorithms, some of which we will be learning in this course."
   ]
  },
  {
   "cell_type": "code",
   "execution_count": null,
   "metadata": {},
   "outputs": [],
   "source": [
    "# importing necessary packages\n",
    "from sklearn import datasets\n",
    "iris = datasets.load_iris()"
   ]
  },
  {
   "cell_type": "code",
   "execution_count": null,
   "metadata": {},
   "outputs": [],
   "source": [
    "# Displaying the dataset\n",
    "print(iris.data)\n",
    "# Displaying the datatype\n",
    "print(type(iris.data))"
   ]
  },
  {
   "cell_type": "markdown",
   "metadata": {},
   "source": [
    "Note: \n",
    "1. The dataset was loaded as a numpy array\n",
    "2. We do not see the species information here\n",
    "     \n",
    "In `sklearn`, the dataset can be separated into 'features' and 'targets' as follows (`sklearn` stores species information as targets)"
   ]
  },
  {
   "cell_type": "code",
   "execution_count": null,
   "metadata": {},
   "outputs": [],
   "source": [
    "features = iris.data[:,[0,1,2,3]]\n",
    "targets = iris.target "
   ]
  },
  {
   "cell_type": "markdown",
   "metadata": {},
   "source": [
    "**Task:** Extract all the features of the first flower species\n",
    "Hint: You will find some more information when you inspect the shape of 'features' (and 'targets')"
   ]
  },
  {
   "cell_type": "code",
   "execution_count": null,
   "metadata": {},
   "outputs": [],
   "source": [
    "# Your code here:\n",
    "\n"
   ]
  },
  {
   "cell_type": "markdown",
   "metadata": {},
   "source": [
    "Now let's try to visualize the relationship between some of the features "
   ]
  },
  {
   "cell_type": "code",
   "execution_count": null,
   "metadata": {},
   "outputs": [],
   "source": [
    "# Plotting the relationship between the Sepal Length and Sepal Width\n",
    "feature1 = features[:, 0] # Sepal Length\n",
    "feature2 = features[:, 1] # Sepal Width\n",
    "    \n",
    "species = ('Iris-setosa', 'Iris-versicolor', 'Iris-virginica')\n",
    "colors = ('blue','green','red')\n",
    "\n",
    "data = [[features[np.where(targets == target)][:, feature] for feature in [0, 1]] for target in range(3)]\n",
    "\n",
    "for item, color, group in zip(data, colors, species):\n",
    "    plt.scatter(item[0], item[1], color=color)\n",
    "    plt.title('Iris dataset scatter plot')\n",
    "plt.xlabel('Sepal length')\n",
    "plt.ylabel('Sepal width')\n",
    "plt.show()"
   ]
  },
  {
   "cell_type": "markdown",
   "metadata": {},
   "source": [
    "**Task:** In a similar manner, plot petal length versus petal width"
   ]
  },
  {
   "cell_type": "code",
   "execution_count": null,
   "metadata": {},
   "outputs": [],
   "source": [
    "# Your code here:\n",
    "\n"
   ]
  },
  {
   "cell_type": "markdown",
   "metadata": {},
   "source": [
    "**Question:** State your findings, eg. do these two features provide a better species separation? \n",
    "\n",
    "Answer:"
   ]
  },
  {
   "cell_type": "markdown",
   "metadata": {},
   "source": [
    "We have been comparing only two features at time only because it is easier to visualize. In ML, however, it is quite common to have hundreds of features. In such a case, we might have some features that are redundant by, for eg., being just a linear combination of some other features! Hence, it is common to perform dimensionality reduction to retain only the most representative features from the entire set. One way of doing is by Principal Component Analysis (PCA). Here we try to understand and implement PCA:"
   ]
  },
  {
   "cell_type": "markdown",
   "metadata": {},
   "source": [
    "## 5. Principal Component Analysis (PCA)"
   ]
  },
  {
   "cell_type": "markdown",
   "metadata": {},
   "source": [
    "### PCA Summary:\n",
    "- Standardize the data.\n",
    "- Calculate Eigenvectors and Eigenvalues from the covariance matrix.\n",
    "- Sort eigenvalues in descending order\n",
    "- Choose the k eigenvectors that correspond to the k largest eigenvalues (k=number of dimensions of the new feature subspace (k≤d)).\n",
    "- Construct the projection matrix W from the selected k eigenvectors.\n",
    "- Transform the original dataset X via W to obtain a k-dimensional feature subspace Y."
   ]
  },
  {
   "cell_type": "code",
   "execution_count": null,
   "metadata": {},
   "outputs": [],
   "source": [
    "X = features\n",
    "Y = targets\n",
    "# importing necessary packages for standardizing\n",
    "from sklearn.preprocessing import StandardScaler\n",
    "X = StandardScaler().fit_transform(X)"
   ]
  },
  {
   "cell_type": "markdown",
   "metadata": {},
   "source": [
    "**Task:** Calculate the covariance matrix of the **transposed** feature matrix (use `NumPy`'s `cov` function)"
   ]
  },
  {
   "cell_type": "code",
   "execution_count": null,
   "metadata": {},
   "outputs": [],
   "source": [
    "# Your code here:\n",
    "# Please name the matrix as 'cov_mat'\n",
    "# Remember to transpose the matrix before computing the covariance\n",
    "\n"
   ]
  },
  {
   "cell_type": "markdown",
   "metadata": {},
   "source": [
    "**Task:** Perform eigenvalue decomposition on cov_mat (use `NumPy`'s linear algebra function `eig`)"
   ]
  },
  {
   "cell_type": "code",
   "execution_count": null,
   "metadata": {},
   "outputs": [],
   "source": [
    "# Your code here:\n",
    "# Please name the matrix as 'cov_mat'\n",
    "# Please call your variables eig_vecs and eig_vals\n",
    "\n"
   ]
  },
  {
   "cell_type": "markdown",
   "metadata": {},
   "source": [
    "**Question:**  How many PC values should we retain? \n",
    "\n",
    "**Answer:** I don't know either ;) \n",
    "\n",
    "But we can both find it out by calulating the 'Explained Variance.'"
   ]
  },
  {
   "cell_type": "code",
   "execution_count": null,
   "metadata": {},
   "outputs": [],
   "source": [
    "total = sum(eig_vals)\n",
    "var_exp = [(i/total)*100 for i in sorted(eig_vals, reverse=True)]\n",
    "\n",
    "for pos, data in enumerate(var_exp):\n",
    "    plt.bar(pos, data, align='edge')\n",
    "plt.show"
   ]
  },
  {
   "cell_type": "markdown",
   "metadata": {},
   "source": [
    "This plot shows that around 73% of the variance is captured by the first PC and almost 23% by the second. We can safely ignore the third and the fourth component without losing much information. \n",
    "In principle, we are reducing the 4D feature space to a 2D feature subspace, by choosing the \"top 2\" eigenvectors with the highest eigenvalues to construct a d×k-dimensional eigenvector matrix W. So let's construct W."
   ]
  },
  {
   "cell_type": "code",
   "execution_count": null,
   "metadata": {},
   "outputs": [],
   "source": [
    "# First, make a list of (eigenvalue, eigenvector) tuples\n",
    "eig_pairs = [(np.abs(eig_vals[i]), eig_vecs[:,i]) for i in range(len(eig_vals))]\n",
    "\n",
    "# Sort the (eigenvalue, eigenvector) tuples from high to low\n",
    "eig_pairs.sort()\n",
    "eig_pairs.reverse()\n",
    "  \n",
    "matrix_w = np.hstack((eig_pairs[0][1].reshape(4,1), \n",
    "                      eig_pairs[1][1].reshape(4,1)))\n",
    "\n",
    "print('Matrix W:\\n', matrix_w)"
   ]
  },
  {
   "cell_type": "markdown",
   "metadata": {},
   "source": [
    "Lastly, we will use the 4×2-dimensional projection matrix W to transform our samples onto the new subspace via the equation\n",
    "Y=X×W, where Y is a 150×2 matrix of our transformed samples."
   ]
  },
  {
   "cell_type": "code",
   "execution_count": null,
   "metadata": {},
   "outputs": [],
   "source": [
    "Y = X.dot(matrix_w)"
   ]
  },
  {
   "cell_type": "code",
   "execution_count": null,
   "metadata": {},
   "outputs": [],
   "source": [
    "species = ('Iris-setosa', 'Iris-versicolor', 'Iris-virginica')\n",
    "colors = ('blue','green','red')\n",
    "\n",
    "# Plotting the relationship between PCA1 and PCA2\n",
    "feature1 = Y[:, 0] \n",
    "feature2 = Y[:, 1] \n",
    "    \n",
    "species = ('Iris-setosa', 'Iris-versicolor', 'Iris-virginica')\n",
    "colors = ('blue','green','red')\n",
    "data = [[Y[np.where(targets == target)][:, feature] for feature in [0, 1]] for target in range(3)]\n",
    "\n",
    "for item, color, group in zip(data, colors, species):\n",
    "    plt.scatter(item[0], item[1], color=color)\n",
    "    plt.title('Projection matrix')\n",
    "plt.xlabel('PCA1')\n",
    "plt.ylabel('PCA2')\n",
    "plt.show()"
   ]
  },
  {
   "cell_type": "markdown",
   "metadata": {},
   "source": [
    "### PCA using `scikit-learn`"
   ]
  },
  {
   "cell_type": "code",
   "execution_count": null,
   "metadata": {},
   "outputs": [],
   "source": [
    "# importing necessary packages\n",
    "from sklearn.decomposition import PCA as sklearnPCA"
   ]
  },
  {
   "cell_type": "markdown",
   "metadata": {},
   "source": [
    "**Task:** Perform PCA using the built-in function `sklearnPCA`"
   ]
  },
  {
   "cell_type": "code",
   "execution_count": null,
   "metadata": {},
   "outputs": [],
   "source": [
    "# Your code here:\n",
    "\n"
   ]
  },
  {
   "cell_type": "markdown",
   "metadata": {},
   "source": [
    "**Task:** Plot the features you found using `sklearn`'s implementation of the PCA in a similar way as we showed previously using the hand-implemented method. This will also verify if our implementation is correct and gives the same result as the built-in function."
   ]
  },
  {
   "cell_type": "code",
   "execution_count": null,
   "metadata": {},
   "outputs": [],
   "source": [
    "# Your code here:\n",
    "\n"
   ]
  },
  {
   "cell_type": "markdown",
   "metadata": {},
   "source": [
    "## End Remark about coding in Python ;)"
   ]
  },
  {
   "cell_type": "code",
   "execution_count": null,
   "metadata": {},
   "outputs": [],
   "source": [
    "# Uncomment the code below\n",
    "# import this"
   ]
  },
  {
   "cell_type": "markdown",
   "metadata": {},
   "source": [
    "## Bonus Task: Segmentation by simple thresholding\n",
    "Consider the image irisNorm1 we obtained previously. Extract a segmentation mask for the flower using a basic thresholding based on the histogram of the image that we displayed. A mask is basically a binary image with pixel values as 0 for the region of interest, and all other pixels as 1. "
   ]
  },
  {
   "cell_type": "code",
   "execution_count": null,
   "metadata": {},
   "outputs": [],
   "source": [
    "# Your code here:\n",
    "# Please name the mask segMask\n",
    "\n"
   ]
  },
  {
   "cell_type": "markdown",
   "metadata": {},
   "source": [
    "## Feedback Cell:\n",
    "I hope this Notebook gave you a good start into python and Machine Learning. Let us know how you liked it. Any suggestions/ criticism are also welcome! "
   ]
  },
  {
   "cell_type": "markdown",
   "metadata": {},
   "source": [
    "Your Feedback: \n"
   ]
  }
 ],
 "metadata": {
  "kernelspec": {
   "display_name": "Python 3",
   "language": "python",
   "name": "python3"
  },
  "language_info": {
   "codemirror_mode": {
    "name": "ipython",
    "version": 3
   },
   "file_extension": ".py",
   "mimetype": "text/x-python",
   "name": "python",
   "nbconvert_exporter": "python",
   "pygments_lexer": "ipython3",
   "version": "3.7.5"
  }
 },
 "nbformat": 4,
 "nbformat_minor": 4
}
